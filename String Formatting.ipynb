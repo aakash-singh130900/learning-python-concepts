{
 "cells": [
  {
   "cell_type": "markdown",
   "id": "b0273d47-d5be-4414-bb13-fd27a5d164dd",
   "metadata": {},
   "source": [
    "# Formatted String Literals (f-string)"
   ]
  },
  {
   "cell_type": "markdown",
   "id": "0e174575-f5c4-448b-9c3e-e175d5783649",
   "metadata": {},
   "source": [
    "### Introduced in Python 3.6, f-strings offer several benefits over the older .format() string method. \n",
    "#### We will be focusing on f-string method here."
   ]
  },
  {
   "cell_type": "code",
   "execution_count": 2,
   "id": "ebf90ab6-d5bb-46a0-9b78-d20fc74babb1",
   "metadata": {},
   "outputs": [
    {
     "name": "stdout",
     "output_type": "stream",
     "text": [
      "My name is: Thor\n",
      "My name is: Thor\n"
     ]
    }
   ],
   "source": [
    "name = 'Thor'\n",
    "\n",
    "# Using f-string\n",
    "print(f\"My name is: {name}\")\n",
    "\n",
    "# Using .format()\n",
    "print(\"My name is: {}\".format(name))"
   ]
  },
  {
   "cell_type": "markdown",
   "id": "933cc648-e030-4088-85df-a5754bc56837",
   "metadata": {},
   "source": [
    "##  \"!r\"\n",
    "- Calls the Python f-strings that is used to call the repr() function on the variable.\n",
    "- This function returns a string containing a printable representation of an object.\r",
    "- For strings, this adds quotes around them."
   ]
  },
  {
   "cell_type": "code",
   "execution_count": 3,
   "id": "6c792335-fc28-4816-9d34-8a0e7b0e00a1",
   "metadata": {},
   "outputs": [
    {
     "name": "stdout",
     "output_type": "stream",
     "text": [
      "My name is: 'Thor'\n"
     ]
    }
   ],
   "source": [
    "print(f\"My name is: {name!r}\")"
   ]
  },
  {
   "cell_type": "markdown",
   "id": "f8edcee9-ecf7-440b-bece-cf1a3e1e2553",
   "metadata": {},
   "source": [
    "## Float Formatting\r\n",
    "\r\n",
    "This comment describes the formatting used for floating-point numbers:\r\n",
    "\r\n",
    "\"result: {value:{width}.{precision}}\"\r\n",
    "\r\n",
    "- `width`: Indicates the total width of the formatted string, including spaces.\r\n",
    "- `precision`: Specifies the total number of digits in the formatted number, including both digits before and after the decimal point.\r\n"
   ]
  },
  {
   "cell_type": "code",
   "execution_count": 4,
   "id": "fb4535c5-8b97-455f-83b2-db681b64873b",
   "metadata": {},
   "outputs": [
    {
     "name": "stdout",
     "output_type": "stream",
     "text": [
      "My formatted string is:    69.123\n"
     ]
    }
   ],
   "source": [
    "num = 69.12345\n",
    "print(f\"My formatted string is:{num:{10}.{5}}\")"
   ]
  },
  {
   "cell_type": "markdown",
   "id": "8185be4d-dd37-48ff-bcc3-5548ed959c83",
   "metadata": {},
   "source": [
    "## Using {value:1.3f}\n",
    "- num: The variable holding the floating-point number to be formatted.\n",
    "- 1: Specifies the total width of the formatted string. In this case, it reserves 1 character for the formatted number.\n",
    "- .3f: Specifies the precision of the floating-point number. Here, it indicates that the number should be displayed with 3 digits after the decimal   point."
   ]
  },
  {
   "cell_type": "code",
   "execution_count": 5,
   "id": "398535b8-f84f-451d-9947-6754c097d2bb",
   "metadata": {},
   "outputs": [
    {
     "name": "stdout",
     "output_type": "stream",
     "text": [
      "My formatted string is:69.123\n"
     ]
    }
   ],
   "source": [
    "num = 69.12345\n",
    "print(f\"My formatted string is:{num:1.3f}\")"
   ]
  },
  {
   "cell_type": "code",
   "execution_count": null,
   "id": "0c215956-1e24-48f6-ab51-755d92e93ac3",
   "metadata": {},
   "outputs": [],
   "source": []
  }
 ],
 "metadata": {
  "kernelspec": {
   "display_name": "Python 3 (ipykernel)",
   "language": "python",
   "name": "python3"
  },
  "language_info": {
   "codemirror_mode": {
    "name": "ipython",
    "version": 3
   },
   "file_extension": ".py",
   "mimetype": "text/x-python",
   "name": "python",
   "nbconvert_exporter": "python",
   "pygments_lexer": "ipython3",
   "version": "3.11.7"
  }
 },
 "nbformat": 4,
 "nbformat_minor": 5
}
