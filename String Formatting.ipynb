{
 "cells": [
  {
   "cell_type": "markdown",
   "id": "2d0a181e-09dc-4cd5-9971-40ac12e8fb04",
   "metadata": {},
   "source": [
    "## Formatted String Literals (f-string)"
   ]
  },
  {
   "cell_type": "code",
   "execution_count": 34,
   "id": "ebf90ab6-d5bb-46a0-9b78-d20fc74babb1",
   "metadata": {},
   "outputs": [
    {
     "name": "stdout",
     "output_type": "stream",
     "text": [
      "My name is: Thor\n",
      "My name is: Thor\n"
     ]
    }
   ],
   "source": [
    "#Introduced in Python 3.6, f-strings offer several benefits over the older .format() string method described above. \n",
    "\n",
    "name = 'Thor'\n",
    "\n",
    "# Using f-string\n",
    "print(f\"My name is: {name}\")\n",
    "\n",
    "# Using .format()\n",
    "print(\"My name is: {}\".format(name))\n",
    "\n"
   ]
  },
  {
   "cell_type": "code",
   "execution_count": null,
   "id": "5b1c7d85-dc68-4a4b-8329-249149da43de",
   "metadata": {},
   "outputs": [],
   "source": []
  }
 ],
 "metadata": {
  "kernelspec": {
   "display_name": "Python 3 (ipykernel)",
   "language": "python",
   "name": "python3"
  },
  "language_info": {
   "codemirror_mode": {
    "name": "ipython",
    "version": 3
   },
   "file_extension": ".py",
   "mimetype": "text/x-python",
   "name": "python",
   "nbconvert_exporter": "python",
   "pygments_lexer": "ipython3",
   "version": "3.11.7"
  }
 },
 "nbformat": 4,
 "nbformat_minor": 5
}
