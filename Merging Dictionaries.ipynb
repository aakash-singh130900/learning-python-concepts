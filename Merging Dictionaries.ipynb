{
 "cells": [
  {
   "cell_type": "markdown",
   "id": "a483b0a4-4a8e-4036-a90e-272efec489f3",
   "metadata": {},
   "source": [
    "# Merging Dictionaries"
   ]
  },
  {
   "cell_type": "markdown",
   "id": "b4865ef1-3fca-4424-8a03-7e0fa15be2a6",
   "metadata": {},
   "source": [
    "- Two scenarios: one where we use the ** operator to merge dictionaries, and one where we use it to pass dictionary contents as arguments to a function."
   ]
  },
  {
   "cell_type": "markdown",
   "id": "469e62db-181c-48b4-8184-ecba4dd7f3bc",
   "metadata": {},
   "source": [
    "## Merging dictionaries with **"
   ]
  },
  {
   "cell_type": "code",
   "execution_count": 2,
   "id": "b81216b4-bf31-4b97-bdd5-e0efb3108b54",
   "metadata": {},
   "outputs": [],
   "source": [
    "#Let's say we have two dictionaries:\n",
    "dest = {\"a\": 1, \"b\": 2}\n",
    "src = {\"b\": 3, \"c\": 4}"
   ]
  },
  {
   "cell_type": "markdown",
   "id": "4e5bc325-1d83-41ad-b94d-4d0b906569a3",
   "metadata": {},
   "source": [
    "- We can merge these two dictionaries using the ** operator like this:"
   ]
  },
  {
   "cell_type": "code",
   "execution_count": 3,
   "id": "60976e71-8e47-4a64-97e8-f16f0001704f",
   "metadata": {},
   "outputs": [],
   "source": [
    "merged_dict = {**dest, **src}"
   ]
  },
  {
   "cell_type": "code",
   "execution_count": 4,
   "id": "c94240b5-c805-4b57-aad8-b80957aabaef",
   "metadata": {},
   "outputs": [
    {
     "name": "stdout",
     "output_type": "stream",
     "text": [
      "{'a': 1, 'b': 3, 'c': 4}\n"
     ]
    }
   ],
   "source": [
    "print(merged_dict)"
   ]
  },
  {
   "cell_type": "markdown",
   "id": "480d62e1-d8cf-4c28-b66a-70fe7f5a029d",
   "metadata": {},
   "source": [
    "- Notice that the value of b in the merged_dict is 3, not 2.\n",
    "- This is because when there are duplicate keys, the value from the second dictionary (src in this case) overwrites the value from the first dictionary (dest)."
   ]
  },
  {
   "cell_type": "markdown",
   "id": "884a262a-0398-40f1-955a-2e2208d45e63",
   "metadata": {},
   "source": [
    "## Passing dictionary contents as arguments to a function with **"
   ]
  },
  {
   "cell_type": "code",
   "execution_count": 7,
   "id": "34b40217-b397-4731-8865-cd127138fdbe",
   "metadata": {},
   "outputs": [],
   "source": [
    "# Let's say we have a function that takes two arguments:\n",
    "def some_function(a, b):\n",
    "    return a + b\n",
    "\n",
    "# And we have a dictionary:\n",
    "args = {\"a\": 1, \"b\": 2}\n"
   ]
  },
  {
   "cell_type": "markdown",
   "id": "3fae858c-006c-4224-acac-516bbb5717c6",
   "metadata": {},
   "source": [
    "- We can pass the contents of the dictionary as arguments to the function using the ** operator like this:"
   ]
  },
  {
   "cell_type": "code",
   "execution_count": 10,
   "id": "cb92ce43-fcec-4c0d-9cc8-3a68b5522489",
   "metadata": {},
   "outputs": [
    {
     "name": "stdout",
     "output_type": "stream",
     "text": [
      "3\n"
     ]
    }
   ],
   "source": [
    "result = some_function(**args)\n",
    "print(result)"
   ]
  },
  {
   "cell_type": "markdown",
   "id": "827be1b5-4783-42c2-ad63-43f97190bd59",
   "metadata": {},
   "source": [
    "- The `result` will be `3`, because `a` and `b` from the `args` dictionary are passed as separate arguments to the `some_function`, and `some_function` adds them together."
   ]
  }
 ],
 "metadata": {
  "kernelspec": {
   "display_name": "Python 3 (ipykernel)",
   "language": "python",
   "name": "python3"
  },
  "language_info": {
   "codemirror_mode": {
    "name": "ipython",
    "version": 3
   },
   "file_extension": ".py",
   "mimetype": "text/x-python",
   "name": "python",
   "nbconvert_exporter": "python",
   "pygments_lexer": "ipython3",
   "version": "3.11.7"
  }
 },
 "nbformat": 4,
 "nbformat_minor": 5
}
