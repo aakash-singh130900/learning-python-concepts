{
 "cells": [
  {
   "cell_type": "markdown",
   "id": "efbbedba-bd49-401b-9c27-651e68b320d8",
   "metadata": {},
   "source": [
    "# map Function"
   ]
  },
  {
   "cell_type": "markdown",
   "id": "dd443173-a03e-48fe-99d1-532f76759717",
   "metadata": {},
   "source": [
    "- In Python, the 'map' function is a built-in tool that lets you apply a specific function to every item in a list, tuple, or other iterable. After processing each item, 'map' gives you back a special map object, which you can then turn into a list, tuple, or another iterable type."
   ]
  },
  {
   "cell_type": "markdown",
   "id": "9ee55df6-6e5c-4860-b67d-da87fff1c61f",
   "metadata": {},
   "source": [
    "## Without Using map"
   ]
  },
  {
   "cell_type": "code",
   "execution_count": 3,
   "id": "c1086e93-8dec-4f75-b0ba-3589d0f021af",
   "metadata": {},
   "outputs": [
    {
     "name": "stdout",
     "output_type": "stream",
     "text": [
      "[1, 4, 9, 16, 25]\n"
     ]
    }
   ],
   "source": [
    "numbers = [1, 2, 3, 4, 5]\n",
    "squared_numbers = []\n",
    "\n",
    "for number in numbers:\n",
    "    squared_numbers.append(number ** 2)\n",
    "\n",
    "print(squared_numbers)"
   ]
  },
  {
   "cell_type": "markdown",
   "id": "31f03cef-2bfd-4509-b934-a42092da9677",
   "metadata": {},
   "source": [
    "## Using map"
   ]
  },
  {
   "cell_type": "code",
   "execution_count": 5,
   "id": "1cd5d592-6960-465c-9c1b-ac544efd35c3",
   "metadata": {},
   "outputs": [
    {
     "name": "stdout",
     "output_type": "stream",
     "text": [
      "[1, 4, 9, 16, 25]\n"
     ]
    }
   ],
   "source": [
    "def square(number):\n",
    "    return number ** 2\n",
    "\n",
    "numbers = [1, 2, 3, 4, 5]\n",
    "squared_numbers = map(square, numbers)\n",
    "\n",
    "print(list(squared_numbers))"
   ]
  },
  {
   "cell_type": "markdown",
   "id": "6756d7cc-1ded-43f9-a155-2980c24a274b",
   "metadata": {},
   "source": [
    "# filter Function"
   ]
  },
  {
   "cell_type": "markdown",
   "id": "f6c88bf3-3280-4b56-963c-3986d9b4cceb",
   "metadata": {},
   "source": [
    "- In Python, 'filter' is a built-in function that constructs an iterator from those elements of iterable for which a function returns true. Essentially, 'filter' offers a way to filter out elements from a list or any iterable based on a condition."
   ]
  },
  {
   "cell_type": "markdown",
   "id": "d9b79dc7-cbf2-4dca-bf70-cbd9be881ff8",
   "metadata": {},
   "source": [
    "## Without Using filter"
   ]
  },
  {
   "cell_type": "code",
   "execution_count": 8,
   "id": "f538c126-781f-4dec-84cd-41dd1d9d5830",
   "metadata": {},
   "outputs": [
    {
     "name": "stdout",
     "output_type": "stream",
     "text": [
      "[2, 4, 6]\n"
     ]
    }
   ],
   "source": [
    "numbers = [1, 2, 3, 4, 5, 6]\n",
    "even_numbers = []\n",
    "\n",
    "for number in numbers:\n",
    "    if number % 2 == 0:\n",
    "        even_numbers.append(number)\n",
    "\n",
    "print(even_numbers)"
   ]
  },
  {
   "cell_type": "markdown",
   "id": "139d4ff0-102e-4d53-9050-e0204e8ecceb",
   "metadata": {},
   "source": [
    "# Using filter"
   ]
  },
  {
   "cell_type": "code",
   "execution_count": 13,
   "id": "cae892d0-751c-4176-af8d-949de573f2df",
   "metadata": {},
   "outputs": [
    {
     "name": "stdout",
     "output_type": "stream",
     "text": [
      "[2, 4, 6]\n"
     ]
    }
   ],
   "source": [
    "def is_even(number):\n",
    "    return number % 2 == 0\n",
    "\n",
    "numbers = [1, 2, 3, 4, 5, 6]\n",
    "even_numbers = filter(is_even, numbers)\n",
    "\n",
    "print(list(even_numbers))"
   ]
  },
  {
   "cell_type": "markdown",
   "id": "50369a72-b4ec-4785-9a88-6aba6b5cce47",
   "metadata": {},
   "source": [
    "# Combining filter with map"
   ]
  },
  {
   "cell_type": "markdown",
   "id": "26221c17-8948-47e0-832e-3ee1a7b984e3",
   "metadata": {},
   "source": [
    "- 'filter' and 'map' can be combined to first filter a list and then apply a function to the filtered elements. For example, if we want to square only the even numbers in a list:"
   ]
  },
  {
   "cell_type": "code",
   "execution_count": 15,
   "id": "0c418a06-8c66-4c26-acb9-7262a32da857",
   "metadata": {},
   "outputs": [
    {
     "name": "stdout",
     "output_type": "stream",
     "text": [
      "[4, 16, 36]\n"
     ]
    }
   ],
   "source": [
    "numbers = [1, 2, 3, 4, 5, 6]\n",
    "\n",
    "# First, filter to get even numbers\n",
    "even_numbers = filter(lambda x: x % 2 == 0, numbers)\n",
    "\n",
    "# Then, map to square the filtered even numbers\n",
    "squared_even_numbers = map(lambda x: x ** 2, even_numbers)\n",
    "\n",
    "print(list(squared_even_numbers))"
   ]
  }
 ],
 "metadata": {
  "kernelspec": {
   "display_name": "Python 3 (ipykernel)",
   "language": "python",
   "name": "python3"
  },
  "language_info": {
   "codemirror_mode": {
    "name": "ipython",
    "version": 3
   },
   "file_extension": ".py",
   "mimetype": "text/x-python",
   "name": "python",
   "nbconvert_exporter": "python",
   "pygments_lexer": "ipython3",
   "version": "3.11.7"
  }
 },
 "nbformat": 4,
 "nbformat_minor": 5
}
