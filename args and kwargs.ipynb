{
 "cells": [
  {
   "cell_type": "markdown",
   "id": "939322e7-904d-4f10-bb31-871084253799",
   "metadata": {},
   "source": [
    "# *args \n",
    "- It allows for an arbitrary number of arguments\n",
    "- The function takes them in as a tuple of values."
   ]
  },
  {
   "cell_type": "code",
   "execution_count": 33,
   "id": "7b087589-5646-46e3-a33e-0f612d89910e",
   "metadata": {},
   "outputs": [
    {
     "name": "stdout",
     "output_type": "stream",
     "text": [
      "args creates a tuple: (10, 20, 30, 40)\n"
     ]
    },
    {
     "data": {
      "text/plain": [
       "1000"
      ]
     },
     "execution_count": 33,
     "metadata": {},
     "output_type": "execute_result"
    }
   ],
   "source": [
    "def func(*args):\n",
    "    print(\"args creates a tuple:\",args)\n",
    "    return sum(args)*10\n",
    "\n",
    "func(10,20,30,40)"
   ]
  },
  {
   "cell_type": "markdown",
   "id": "44a17c49-17fe-4a8b-98a7-55b5c4504dcc",
   "metadata": {},
   "source": [
    "- If you don't use *args, you would need to define the function with specific parameters for each argument you expect. This approach is less flexible because the number of arguments is fixed."
   ]
  },
  {
   "cell_type": "code",
   "execution_count": 10,
   "id": "23ca9336-c771-4776-bc26-9be4fb07e400",
   "metadata": {},
   "outputs": [
    {
     "name": "stdout",
     "output_type": "stream",
     "text": [
      "10 20 30 40\n"
     ]
    },
    {
     "data": {
      "text/plain": [
       "1000"
      ]
     },
     "execution_count": 10,
     "metadata": {},
     "output_type": "execute_result"
    }
   ],
   "source": [
    "def func(a, b, c, d):\n",
    "    print(a, b, c, d)\n",
    "    return (a + b + c + d) * 10\n",
    "\n",
    "func(10,20,30,40)"
   ]
  },
  {
   "cell_type": "markdown",
   "id": "3c5ae62e-4c02-4b98-a511-1be623dcd747",
   "metadata": {},
   "source": [
    "## Further Uses of *args \n",
    "- In Python, the asterisk (`*`) is used in function definitions to capture an arbitrary number of arguments, but it's also used in other contexts for unpacking."
   ]
  },
  {
   "cell_type": "code",
   "execution_count": 24,
   "id": "e72e7a80-2f7e-4994-93cf-704c692c7c66",
   "metadata": {},
   "outputs": [
    {
     "ename": "ValueError",
     "evalue": "too many values to unpack (expected 2)",
     "output_type": "error",
     "traceback": [
      "\u001b[1;31m---------------------------------------------------------------------------\u001b[0m",
      "\u001b[1;31mValueError\u001b[0m                                Traceback (most recent call last)",
      "Cell \u001b[1;32mIn[24], line 4\u001b[0m\n\u001b[0;32m      1\u001b[0m \u001b[38;5;66;03m# Without *\u001b[39;00m\n\u001b[0;32m      2\u001b[0m \u001b[38;5;66;03m# Raises ValueError: too many values to unpack (expected 2)\u001b[39;00m\n\u001b[0;32m      3\u001b[0m funs \u001b[38;5;241m=\u001b[39m \u001b[38;5;124m\"\u001b[39m\u001b[38;5;124msubtract::arg1::arg2\u001b[39m\u001b[38;5;124m\"\u001b[39m\n\u001b[1;32m----> 4\u001b[0m f, args \u001b[38;5;241m=\u001b[39m funs\u001b[38;5;241m.\u001b[39msplit(\u001b[38;5;124m\"\u001b[39m\u001b[38;5;124m::\u001b[39m\u001b[38;5;124m\"\u001b[39m)  \n\u001b[0;32m      5\u001b[0m \u001b[38;5;28mprint\u001b[39m(\u001b[38;5;124mf\u001b[39m\u001b[38;5;124m\"\u001b[39m\u001b[38;5;124mf is: \u001b[39m\u001b[38;5;132;01m{\u001b[39;00mf\u001b[38;5;132;01m}\u001b[39;00m\u001b[38;5;124m, args is a list: \u001b[39m\u001b[38;5;132;01m{\u001b[39;00margs\u001b[38;5;132;01m}\u001b[39;00m\u001b[38;5;124m\"\u001b[39m)\n",
      "\u001b[1;31mValueError\u001b[0m: too many values to unpack (expected 2)"
     ]
    }
   ],
   "source": [
    "# Without *\n",
    "# Raises ValueError: too many values to unpack (expected 2)\n",
    "funs = \"subtract::arg1::arg2\"\n",
    "f, args = funs.split(\"::\")  \n",
    "print(f\"f is: {f}, args is a list: {args}\")"
   ]
  },
  {
   "cell_type": "code",
   "execution_count": 21,
   "id": "0feadfb7-b7c9-45f0-9aa0-5393a1232f09",
   "metadata": {},
   "outputs": [
    {
     "name": "stdout",
     "output_type": "stream",
     "text": [
      "f is: subtract, args is a list: ['arg1', 'arg2']\n"
     ]
    }
   ],
   "source": [
    "# With *\n",
    "# Works fine, f = \"subtract\", args = [\"arg1\", \"arg2\"]\n",
    "funs = \"subtract::arg1::arg2\"\n",
    "f, *args = funs.split(\"::\")  \n",
    "print(f\"f is: {f}, args is a list: {args}\")"
   ]
  },
  {
   "cell_type": "markdown",
   "id": "30ee302f-5d25-40a1-a394-552b2fc1615a",
   "metadata": {},
   "source": [
    "# **kwargs\n",
    "- Similarly, Python provides a way to handle an arbitrary number of keyword arguments.\n",
    "- Instead of creating a tuple of values, **kwargs creates a dictionary of key/value pairs."
   ]
  },
  {
   "cell_type": "code",
   "execution_count": 32,
   "id": "55f45e9e-4741-42ce-95ee-e0f0608665f8",
   "metadata": {},
   "outputs": [
    {
     "name": "stdout",
     "output_type": "stream",
     "text": [
      "The biggest ocean in the world is Pacific Ocean\n",
      "kwargs creates a dictionary: {'Continent': 'Asia', 'Ocean': 'Pacific Ocean'}\n"
     ]
    }
   ],
   "source": [
    "def kfunc(**kwargs):\n",
    "    print(f\"The biggest ocean in the world is {kwargs['Ocean']}\")\n",
    "    print(\"kwargs creates a dictionary:\",kwargs)\n",
    "\n",
    "kfunc(Continent='Asia', Ocean='Pacific Ocean')"
   ]
  },
  {
   "cell_type": "code",
   "execution_count": null,
   "id": "ba5ea4b9-3fe5-4166-9f36-403ca4761315",
   "metadata": {},
   "outputs": [],
   "source": []
  }
 ],
 "metadata": {
  "kernelspec": {
   "display_name": "Python 3 (ipykernel)",
   "language": "python",
   "name": "python3"
  },
  "language_info": {
   "codemirror_mode": {
    "name": "ipython",
    "version": 3
   },
   "file_extension": ".py",
   "mimetype": "text/x-python",
   "name": "python",
   "nbconvert_exporter": "python",
   "pygments_lexer": "ipython3",
   "version": "3.11.7"
  }
 },
 "nbformat": 4,
 "nbformat_minor": 5
}
